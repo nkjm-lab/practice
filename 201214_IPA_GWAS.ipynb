{
 "cells": [
  {
   "cell_type": "code",
   "execution_count": null,
   "metadata": {},
   "outputs": [],
   "source": [
    "import pandas as pd"
   ]
  },
  {
   "cell_type": "code",
   "execution_count": null,
   "metadata": {},
   "outputs": [],
   "source": [
    "DF = pd.read_table('Cdh2.txt',header=1)"
   ]
  },
  {
   "cell_type": "code",
   "execution_count": null,
   "metadata": {},
   "outputs": [],
   "source": [
    "DF_MOUSE = DF[DF['Entrez Gene ID for Mouse'].str.contains('[0-9]+',na=False)]"
   ]
  },
  {
   "cell_type": "code",
   "execution_count": null,
   "metadata": {},
   "outputs": [],
   "source": [
    "SYMBOLS = DF_MOUSE['Symbol']"
   ]
  },
  {
   "cell_type": "code",
   "execution_count": null,
   "metadata": {},
   "outputs": [],
   "source": [
    "NCAD_IPA_DICT = {}\n",
    "\n",
    "for symbol in SYMBOLS:\n",
    "        NCAD_IPA_DICT[symbol] = 0"
   ]
  },
  {
   "cell_type": "code",
   "execution_count": null,
   "metadata": {},
   "outputs": [],
   "source": [
    "DF = pd.read_table('alternative.tsv',header=0,sep='\\t')"
   ]
  },
  {
   "cell_type": "code",
   "execution_count": null,
   "metadata": {},
   "outputs": [],
   "source": [
    "print(DF.head())"
   ]
  },
  {
   "cell_type": "code",
   "execution_count": null,
   "metadata": {},
   "outputs": [],
   "source": [
    "print(DF['MAPPED_GENE'].head())\n",
    "print(DF['UPSTREAM_GENE_ID'].head())\n",
    "#print(DF['DOWNSTREAM_GENE_ID'].head())\n",
    "#print(DF['SNP_GENE_IDS'].head())"
   ]
  },
  {
   "cell_type": "code",
   "execution_count": null,
   "metadata": {},
   "outputs": [],
   "source": [
    "MAPPED_GENES = DF['MAPPED_GENE']"
   ]
  },
  {
   "cell_type": "code",
   "execution_count": null,
   "metadata": {},
   "outputs": [],
   "source": [
    "OUTPUT = open('201214_Ncad_IPA_GWAS.txt','w')\n",
    "for a_mapped_gene in MAPPED_GENES:\n",
    "        if a_mapped_gene in NCAD_IPA_DICT.keys():\n",
    "                print(a_mapped_gene,file=OUTPUT)\n",
    "OUTPUT.close()"
   ]
  }
 ],
 "metadata": {
  "kernelspec": {
   "display_name": "Python 3",
   "language": "python",
   "name": "python3"
  },
  "language_info": {
   "codemirror_mode": {
    "name": "ipython",
    "version": 3
   },
   "file_extension": ".py",
   "mimetype": "text/x-python",
   "name": "python",
   "nbconvert_exporter": "python",
   "pygments_lexer": "ipython3",
   "version": "3.8.3"
  }
 },
 "nbformat": 4,
 "nbformat_minor": 4
}
